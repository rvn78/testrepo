{
 "cells": [
  {
   "cell_type": "markdown",
   "id": "f8878ce9-5377-4740-a002-a362762bd5f5",
   "metadata": {},
   "source": [
    "## Data Science Tools and Ecosystem"
   ]
  },
  {
   "cell_type": "markdown",
   "id": "9a9af20a-57e7-4dbb-be1f-f226846feac9",
   "metadata": {},
   "source": [
    "In this notebook, Data Science Tools and Ecosystem are summarized."
   ]
  },
  {
   "cell_type": "markdown",
   "id": "1799af08-5d3a-4f10-a763-724f50a3dd54",
   "metadata": {},
   "source": [
    "**Objectives:**\n",
    "\n",
    "- List popular languages for Data Science\n",
    "- Identify commonly used libraries for Data Science\n",
    "- Explore open-source development tools used in Data Science\n",
    "- Demonstrate arithmetic operations in Python\n",
    "- Perform unit conversions using Python expressions"
   ]
  },
  {
   "cell_type": "markdown",
   "id": "d6a832ee-75e6-4d5e-95e8-8d3eca447f03",
   "metadata": {},
   "source": [
    "Some of the popular languages that Data Scientists use are:\n",
    "\n",
    "1. Python\n",
    "2. R\n",
    "3. Julia\n",
    "4. SQL\n",
    "\n",
    "Some of the commonly used libraries used by Data Scientists include:\n",
    "\n",
    "1. NumPy\n",
    "2. Pandas\n",
    "3. Matplotlib\n",
    "4. Scikit-learn\n",
    "5. TensorFlow"
   ]
  },
  {
   "cell_type": "code",
   "execution_count": 7,
   "id": "993222e5-ded0-444b-a855-4cf99b490f7e",
   "metadata": {},
   "outputs": [
    {
     "name": "stdout",
     "output_type": "stream",
     "text": [
      "  Data Science Tools\n",
      "0   Jupyter Notebook\n",
      "1            RStudio\n",
      "2    Apache Zeppelin\n"
     ]
    }
   ],
   "source": [
    "import pandas as pd\n",
    "\n",
    "# Create the data\n",
    "data = {'Data Science Tools': [\n",
    "    'Jupyter Notebook',\n",
    "    'RStudio',\n",
    "    'Apache Zeppelin'\n",
    "]}\n",
    "\n",
    "# Create the DataFrame\n",
    "df = pd.DataFrame(data)\n",
    "\n",
    "# Display the table\n",
    "print(df)"
   ]
  },
  {
   "cell_type": "code",
   "execution_count": 9,
   "id": "7e860903-ac18-4444-929e-5b1ecc075ea4",
   "metadata": {},
   "outputs": [
    {
     "name": "stdout",
     "output_type": "stream",
     "text": [
      "### Below are a few examples of evaluating arithmetic expressions in Python ###\n",
      "\n"
     ]
    }
   ],
   "source": [
    "# H3-style heading\n",
    "print(\"### Below are a few examples of evaluating arithmetic expressions in Python ###\\n\")"
   ]
  },
  {
   "cell_type": "code",
   "execution_count": 11,
   "id": "4f52bc55-112f-4f27-aec9-0343616f3ad3",
   "metadata": {},
   "outputs": [
    {
     "data": {
      "text/plain": [
       "17"
      ]
     },
     "execution_count": 11,
     "metadata": {},
     "output_type": "execute_result"
    }
   ],
   "source": [
    "# This is a simple arithmetic expression to multiply then add integers\n",
    "result = (3 * 4) + 5\n",
    "result"
   ]
  },
  {
   "cell_type": "code",
   "execution_count": 13,
   "id": "ba66815c-229f-4049-afc2-615db7585d82",
   "metadata": {},
   "outputs": [
    {
     "data": {
      "text/plain": [
       "3.3333333333333335"
      ]
     },
     "execution_count": 13,
     "metadata": {},
     "output_type": "execute_result"
    }
   ],
   "source": [
    "# This will convert 200 minutes to hours by dividing by 60\n",
    "hours = 200 / 60\n",
    "hours"
   ]
  },
  {
   "cell_type": "markdown",
   "id": "3d5afc8b-9349-4c09-af1f-efa6775378cf",
   "metadata": {},
   "source": [
    "## Author\n",
    "\n",
    "Arvin Willy Fajardo"
   ]
  },
  {
   "cell_type": "code",
   "execution_count": null,
   "id": "7f0206a3-d9ef-4934-9fd6-22dee46167b9",
   "metadata": {},
   "outputs": [],
   "source": []
  }
 ],
 "metadata": {
  "kernelspec": {
   "display_name": "Python [conda env:base] *",
   "language": "python",
   "name": "conda-base-py"
  },
  "language_info": {
   "codemirror_mode": {
    "name": "ipython",
    "version": 3
   },
   "file_extension": ".py",
   "mimetype": "text/x-python",
   "name": "python",
   "nbconvert_exporter": "python",
   "pygments_lexer": "ipython3",
   "version": "3.12.7"
  }
 },
 "nbformat": 4,
 "nbformat_minor": 5
}
